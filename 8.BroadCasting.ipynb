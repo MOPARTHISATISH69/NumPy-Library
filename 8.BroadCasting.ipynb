{
 "cells": [
  {
   "cell_type": "markdown",
   "metadata": {},
   "source": [
    "## Broad Casting "
   ]
  },
  {
   "cell_type": "code",
   "execution_count": 1,
   "metadata": {},
   "outputs": [
    {
     "name": "stdout",
     "output_type": "stream",
     "text": [
      "[[1. 1. 1. 1.]\n",
      " [1. 1. 1. 1.]\n",
      " [1. 1. 1. 1.]\n",
      " [1. 1. 1. 1.]\n",
      " [1. 1. 1. 1.]]\n"
     ]
    }
   ],
   "source": [
    "# Here we make use of arrays that exactly have no same shape\n",
    "import numpy as np\n",
    "\n",
    "A1 = np.ones([5,4])   # 5 rows and 4 colums\n",
    "print(A1)"
   ]
  },
  {
   "cell_type": "code",
   "execution_count": 2,
   "metadata": {},
   "outputs": [
    {
     "name": "stdout",
     "output_type": "stream",
     "text": [
      "[5 2 2 1]\n"
     ]
    }
   ],
   "source": [
    "A2 = np.array([5,2,2,1])  # 1 row and 4 columns\n",
    "print(A2)"
   ]
  },
  {
   "cell_type": "code",
   "execution_count": 3,
   "metadata": {},
   "outputs": [
    {
     "name": "stdout",
     "output_type": "stream",
     "text": [
      "[[6. 3. 3. 2.]\n",
      " [6. 3. 3. 2.]\n",
      " [6. 3. 3. 2.]\n",
      " [6. 3. 3. 2.]\n",
      " [6. 3. 3. 2.]]\n"
     ]
    }
   ],
   "source": [
    "## A2 is broadcasted to A1\n",
    "\n",
    "A3 = A2+A1\n",
    "print(A3)"
   ]
  },
  {
   "cell_type": "code",
   "execution_count": 4,
   "metadata": {},
   "outputs": [
    {
     "name": "stdout",
     "output_type": "stream",
     "text": [
      "[[11 12 13]] \n",
      " [[11]\n",
      " [12]\n",
      " [13]]\n"
     ]
    }
   ],
   "source": [
    "# Here [5,2,2,1] is added to all rows in the A1 in element-wise ( 1+5,1+2,1+2,1+1)\n",
    "\n",
    "# What if we have 1D array broadcast\n",
    "\n",
    "A4 = np.array([[11,12,13]])\n",
    "A5 = A4.T\n",
    "print(A4,\"\\n\",A5)"
   ]
  },
  {
   "cell_type": "code",
   "execution_count": 5,
   "metadata": {},
   "outputs": [
    {
     "name": "stdout",
     "output_type": "stream",
     "text": [
      "[[22 23 24]\n",
      " [23 24 25]\n",
      " [24 25 26]]\n"
     ]
    }
   ],
   "source": [
    "# Both row and col are broadcasted and we end up with a 3X3 array\n",
    "A6 = A4+A5\n",
    "print(A6)"
   ]
  }
 ],
 "metadata": {
  "kernelspec": {
   "display_name": "Python 3",
   "language": "python",
   "name": "python3"
  },
  "language_info": {
   "codemirror_mode": {
    "name": "ipython",
    "version": 3
   },
   "file_extension": ".py",
   "mimetype": "text/x-python",
   "name": "python",
   "nbconvert_exporter": "python",
   "pygments_lexer": "ipython3",
   "version": "3.7.6"
  }
 },
 "nbformat": 4,
 "nbformat_minor": 4
}
