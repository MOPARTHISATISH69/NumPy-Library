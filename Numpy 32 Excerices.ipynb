{
 "cells": [
  {
   "cell_type": "code",
   "execution_count": 1,
   "metadata": {},
   "outputs": [],
   "source": [
    "# Importing Numpy library\n",
    "import numpy as np"
   ]
  },
  {
   "cell_type": "code",
   "execution_count": 2,
   "metadata": {},
   "outputs": [
    {
     "name": "stdout",
     "output_type": "stream",
     "text": [
      "1.18.1\n",
      "blas_mkl_info:\n",
      "    libraries = ['mkl_rt']\n",
      "    library_dirs = ['C:/Users/SatishMoparthi/anaconda3\\\\Library\\\\lib']\n",
      "    define_macros = [('SCIPY_MKL_H', None), ('HAVE_CBLAS', None)]\n",
      "    include_dirs = ['C:\\\\Program Files (x86)\\\\IntelSWTools\\\\compilers_and_libraries_2019.0.117\\\\windows\\\\mkl', 'C:\\\\Program Files (x86)\\\\IntelSWTools\\\\compilers_and_libraries_2019.0.117\\\\windows\\\\mkl\\\\include', 'C:\\\\Program Files (x86)\\\\IntelSWTools\\\\compilers_and_libraries_2019.0.117\\\\windows\\\\mkl\\\\lib', 'C:/Users/SatishMoparthi/anaconda3\\\\Library\\\\include']\n",
      "blas_opt_info:\n",
      "    libraries = ['mkl_rt']\n",
      "    library_dirs = ['C:/Users/SatishMoparthi/anaconda3\\\\Library\\\\lib']\n",
      "    define_macros = [('SCIPY_MKL_H', None), ('HAVE_CBLAS', None)]\n",
      "    include_dirs = ['C:\\\\Program Files (x86)\\\\IntelSWTools\\\\compilers_and_libraries_2019.0.117\\\\windows\\\\mkl', 'C:\\\\Program Files (x86)\\\\IntelSWTools\\\\compilers_and_libraries_2019.0.117\\\\windows\\\\mkl\\\\include', 'C:\\\\Program Files (x86)\\\\IntelSWTools\\\\compilers_and_libraries_2019.0.117\\\\windows\\\\mkl\\\\lib', 'C:/Users/SatishMoparthi/anaconda3\\\\Library\\\\include']\n",
      "lapack_mkl_info:\n",
      "    libraries = ['mkl_rt']\n",
      "    library_dirs = ['C:/Users/SatishMoparthi/anaconda3\\\\Library\\\\lib']\n",
      "    define_macros = [('SCIPY_MKL_H', None), ('HAVE_CBLAS', None)]\n",
      "    include_dirs = ['C:\\\\Program Files (x86)\\\\IntelSWTools\\\\compilers_and_libraries_2019.0.117\\\\windows\\\\mkl', 'C:\\\\Program Files (x86)\\\\IntelSWTools\\\\compilers_and_libraries_2019.0.117\\\\windows\\\\mkl\\\\include', 'C:\\\\Program Files (x86)\\\\IntelSWTools\\\\compilers_and_libraries_2019.0.117\\\\windows\\\\mkl\\\\lib', 'C:/Users/SatishMoparthi/anaconda3\\\\Library\\\\include']\n",
      "lapack_opt_info:\n",
      "    libraries = ['mkl_rt']\n",
      "    library_dirs = ['C:/Users/SatishMoparthi/anaconda3\\\\Library\\\\lib']\n",
      "    define_macros = [('SCIPY_MKL_H', None), ('HAVE_CBLAS', None)]\n",
      "    include_dirs = ['C:\\\\Program Files (x86)\\\\IntelSWTools\\\\compilers_and_libraries_2019.0.117\\\\windows\\\\mkl', 'C:\\\\Program Files (x86)\\\\IntelSWTools\\\\compilers_and_libraries_2019.0.117\\\\windows\\\\mkl\\\\include', 'C:\\\\Program Files (x86)\\\\IntelSWTools\\\\compilers_and_libraries_2019.0.117\\\\windows\\\\mkl\\\\lib', 'C:/Users/SatishMoparthi/anaconda3\\\\Library\\\\include']\n"
     ]
    }
   ],
   "source": [
    "# Numpy version and configuration\n",
    "print(np.__version__)\n",
    "np.show_config()"
   ]
  },
  {
   "cell_type": "code",
   "execution_count": 3,
   "metadata": {},
   "outputs": [
    {
     "name": "stdout",
     "output_type": "stream",
     "text": [
      "[0. 0. 0. 0. 0. 0. 0. 0. 0. 0.]\n"
     ]
    }
   ],
   "source": [
    "# Create a null vector of size 10\n",
    "NV = np.zeros(10)\n",
    "print(NV)"
   ]
  },
  {
   "cell_type": "code",
   "execution_count": 4,
   "metadata": {},
   "outputs": [
    {
     "name": "stdout",
     "output_type": "stream",
     "text": [
      "[0. 0. 0. 0. 1. 0. 0. 0. 0. 0.]\n"
     ]
    }
   ],
   "source": [
    "# Create a null vector of size 10 but fifth value is 1\n",
    "NV = np.zeros(10)\n",
    "NV[4]=1\n",
    "print(NV)"
   ]
  },
  {
   "cell_type": "code",
   "execution_count": 5,
   "metadata": {},
   "outputs": [
    {
     "name": "stdout",
     "output_type": "stream",
     "text": [
      "[10 11 12 13 14 15 16 17 18 19 20 21 22 23 24 25 26 27 28 29 30 31 32 33\n",
      " 34 35 36 37 38 39 40 41 42 43 44 45 46 47 48 49]\n"
     ]
    }
   ],
   "source": [
    "# Vector with values from 10 - 50\n",
    "V = np.arange(10,50)\n",
    "print(V)"
   ]
  },
  {
   "cell_type": "code",
   "execution_count": 6,
   "metadata": {},
   "outputs": [
    {
     "name": "stdout",
     "output_type": "stream",
     "text": [
      "[49 48 47 46 45 44 43 42 41 40 39 38 37 36 35 34 33 32 31 30 29 28 27 26\n",
      " 25 24 23 22 21 20 19 18 17 16 15 14 13 12 11 10]\n"
     ]
    }
   ],
   "source": [
    "#Reverse a vector \n",
    "v = V[::-1]\n",
    "print(v)"
   ]
  },
  {
   "cell_type": "code",
   "execution_count": 7,
   "metadata": {},
   "outputs": [
    {
     "name": "stdout",
     "output_type": "stream",
     "text": [
      "[[0 1 2]\n",
      " [3 4 5]\n",
      " [6 7 8]]\n"
     ]
    }
   ],
   "source": [
    "# Create 3X3 matrix\n",
    "M = np.arange(9).reshape(3,3)\n",
    "print(M)"
   ]
  },
  {
   "cell_type": "code",
   "execution_count": 8,
   "metadata": {},
   "outputs": [
    {
     "name": "stdout",
     "output_type": "stream",
     "text": [
      "(array([0, 1, 4, 5, 7], dtype=int64),)\n"
     ]
    }
   ],
   "source": [
    "#Find indices of non-zero elements from a array\n",
    "INZ = np.nonzero([1,2,0,0,3,4,0,3])\n",
    "print(INZ)"
   ]
  },
  {
   "cell_type": "code",
   "execution_count": 9,
   "metadata": {},
   "outputs": [
    {
     "name": "stdout",
     "output_type": "stream",
     "text": [
      "[[1. 0. 0.]\n",
      " [0. 1. 0.]\n",
      " [0. 0. 1.]]\n"
     ]
    }
   ],
   "source": [
    "#3X3 identity matrix\n",
    "I = np.eye(3)\n",
    "print(I)"
   ]
  },
  {
   "cell_type": "code",
   "execution_count": 10,
   "metadata": {},
   "outputs": [
    {
     "name": "stdout",
     "output_type": "stream",
     "text": [
      "[[[0.62112365 0.59462526 0.25909015]\n",
      "  [0.02134596 0.32712454 0.23174708]\n",
      "  [0.686389   0.532283   0.29694285]]\n",
      "\n",
      " [[0.7310428  0.21164191 0.54436566]\n",
      "  [0.25398386 0.53631884 0.24221377]\n",
      "  [0.80176417 0.31693512 0.03358851]]\n",
      "\n",
      " [[0.84067897 0.59785114 0.14719428]\n",
      "  [0.73768411 0.20531683 0.12913229]\n",
      "  [0.21382213 0.62407539 0.9452563 ]]]\n"
     ]
    }
   ],
   "source": [
    "# 3X3X3 matrix with random values\n",
    "RV = np.random.random((3,3,3))\n",
    "print(RV)"
   ]
  },
  {
   "cell_type": "code",
   "execution_count": 11,
   "metadata": {},
   "outputs": [
    {
     "name": "stdout",
     "output_type": "stream",
     "text": [
      "0.013557482544483523 0.9956625183099512\n"
     ]
    }
   ],
   "source": [
    "#Create a 10X10 array with random values and find the mean , min and max\n",
    "MMM = np.random.random((10,10))\n",
    "MMMmin, MMMmax = MMM.min(),MMM.max()\n",
    "print(MMMmin,MMMmax)"
   ]
  },
  {
   "cell_type": "code",
   "execution_count": 12,
   "metadata": {},
   "outputs": [
    {
     "name": "stdout",
     "output_type": "stream",
     "text": [
      "0.485557837111151\n"
     ]
    }
   ],
   "source": [
    "#Random vector of size 30 and find mean \n",
    "RVM = np.random.random(30)\n",
    "m = RVM.mean()\n",
    "print(m)"
   ]
  },
  {
   "cell_type": "code",
   "execution_count": 13,
   "metadata": {},
   "outputs": [
    {
     "name": "stdout",
     "output_type": "stream",
     "text": [
      "[[1. 1. 1. 1. 1. 1. 1. 1. 1. 1.]\n",
      " [1. 0. 0. 0. 0. 0. 0. 0. 0. 1.]\n",
      " [1. 0. 0. 0. 0. 0. 0. 0. 0. 1.]\n",
      " [1. 0. 0. 0. 0. 0. 0. 0. 0. 1.]\n",
      " [1. 0. 0. 0. 0. 0. 0. 0. 0. 1.]\n",
      " [1. 0. 0. 0. 0. 0. 0. 0. 0. 1.]\n",
      " [1. 0. 0. 0. 0. 0. 0. 0. 0. 1.]\n",
      " [1. 0. 0. 0. 0. 0. 0. 0. 0. 1.]\n",
      " [1. 0. 0. 0. 0. 0. 0. 0. 0. 1.]\n",
      " [1. 1. 1. 1. 1. 1. 1. 1. 1. 1.]]\n"
     ]
    }
   ],
   "source": [
    "#Create 2d array with 1 on the border and Zero in the middle\n",
    "\n",
    "TA = np.ones((10,10))\n",
    "TA[1:-1,1:-1] = 0\n",
    "print(TA)"
   ]
  },
  {
   "cell_type": "code",
   "execution_count": 14,
   "metadata": {},
   "outputs": [
    {
     "name": "stdout",
     "output_type": "stream",
     "text": [
      "nan\n",
      "False\n",
      "False\n",
      "nan\n",
      "False\n"
     ]
    }
   ],
   "source": [
    "print(0*np.nan)\n",
    "print(np.nan == np.nan)\n",
    "print(np.inf > np.nan)\n",
    "print(np.nan - np.nan)\n",
    "print(0.3 == 3*0.1)"
   ]
  },
  {
   "cell_type": "code",
   "execution_count": 15,
   "metadata": {},
   "outputs": [
    {
     "name": "stdout",
     "output_type": "stream",
     "text": [
      "[[0 0 0 0 0]\n",
      " [1 0 0 0 0]\n",
      " [0 2 0 0 0]\n",
      " [0 0 3 0 0]\n",
      " [0 0 0 4 0]]\n"
     ]
    }
   ],
   "source": [
    "#Create 5X5 matrix with values 1,2,3,4 just below the diagonal\n",
    "D = np.diag(1+np.arange(4),k=-1) # for above diagonal +1 and remove k = +-1 in diagonal\n",
    "print(D)"
   ]
  },
  {
   "cell_type": "code",
   "execution_count": 16,
   "metadata": {},
   "outputs": [
    {
     "name": "stdout",
     "output_type": "stream",
     "text": [
      "[[0 1 0 1 0 1 0 1]\n",
      " [1 0 1 0 1 0 1 0]\n",
      " [0 1 0 1 0 1 0 1]\n",
      " [1 0 1 0 1 0 1 0]\n",
      " [0 1 0 1 0 1 0 1]\n",
      " [1 0 1 0 1 0 1 0]\n",
      " [0 1 0 1 0 1 0 1]\n",
      " [1 0 1 0 1 0 1 0]]\n"
     ]
    }
   ],
   "source": [
    "#8X8 matrix and fill it with checkbroad pattern\n",
    "C = np.zeros((8,8),dtype=int)\n",
    "C[1::2,::2] = 1\n",
    "C[::2,1::2] = 1\n",
    "print(C)"
   ]
  },
  {
   "cell_type": "code",
   "execution_count": 17,
   "metadata": {},
   "outputs": [
    {
     "name": "stdout",
     "output_type": "stream",
     "text": [
      "(0, 2, 2)\n"
     ]
    }
   ],
   "source": [
    "#Consider the (2,3,4) shape array and what the index (x,y,z) of the 10th element.\n",
    "print(np.unravel_index(10,(2,3,4)))"
   ]
  },
  {
   "cell_type": "code",
   "execution_count": 18,
   "metadata": {},
   "outputs": [
    {
     "name": "stdout",
     "output_type": "stream",
     "text": [
      "[[0 1 0 1 0 1 0 1]\n",
      " [1 0 1 0 1 0 1 0]\n",
      " [0 1 0 1 0 1 0 1]\n",
      " [1 0 1 0 1 0 1 0]\n",
      " [0 1 0 1 0 1 0 1]\n",
      " [1 0 1 0 1 0 1 0]\n",
      " [0 1 0 1 0 1 0 1]\n",
      " [1 0 1 0 1 0 1 0]]\n"
     ]
    }
   ],
   "source": [
    "#Create a check broad 8X8 matrix using the tile fucntion\n",
    "T = np.tile(np.array([[0,1],[1,0]]),(4,4))\n",
    "print(T)"
   ]
  },
  {
   "cell_type": "code",
   "execution_count": 19,
   "metadata": {},
   "outputs": [
    {
     "name": "stdout",
     "output_type": "stream",
     "text": [
      "[[0.17985894 0.99915848 0.34007547 0.39694154 0.79532039]\n",
      " [0.48570381 0.35638881 0.82072486 0.56505025 0.43243917]\n",
      " [0.63990238 1.         0.90569858 0.18826041 0.        ]\n",
      " [0.52801103 0.62441807 0.59425676 0.62522429 0.8792278 ]\n",
      " [0.73109476 0.07667226 0.33114422 0.34829617 0.33648495]]\n"
     ]
    }
   ],
   "source": [
    "#Normalize a 5X5 random matrix\n",
    "RM = np.random.random((5,5))\n",
    "RMmin,RMmax = RM.min(),RM.max()\n",
    "RM = (RM - RMmin)/(RMmax-RMmin)\n",
    "print(RM)"
   ]
  },
  {
   "cell_type": "code",
   "execution_count": 20,
   "metadata": {},
   "outputs": [
    {
     "name": "stdout",
     "output_type": "stream",
     "text": [
      "[('r', 'u1'), ('g', 'u1'), ('b', 'u1'), ('a', 'u1')]\n"
     ]
    },
    {
     "name": "stderr",
     "output_type": "stream",
     "text": [
      "C:\\Users\\SatishMoparthi\\anaconda3\\lib\\site-packages\\ipykernel_launcher.py:5: FutureWarning: Passing (type, 1) or '1type' as a synonym of type is deprecated; in a future version of numpy, it will be understood as (type, (1,)) / '(1,)type'.\n",
      "  \"\"\"\n"
     ]
    }
   ],
   "source": [
    "#Create a custom dtype that describes a color as four unisgned bytes\n",
    "C = np.dtype([(\"r\",np.ubyte,1),\n",
    "              (\"g\",np.ubyte,1),\n",
    "              (\"b\",np.ubyte,1),\n",
    "              (\"a\",np.ubyte,1)])\n",
    "print(C)"
   ]
  },
  {
   "cell_type": "code",
   "execution_count": 21,
   "metadata": {},
   "outputs": [
    {
     "name": "stdout",
     "output_type": "stream",
     "text": [
      "[[3. 3.]\n",
      " [3. 3.]\n",
      " [3. 3.]\n",
      " [3. 3.]\n",
      " [3. 3.]]\n"
     ]
    }
   ],
   "source": [
    "#Multiply 5X3 matrix by 3X2 matrix\n",
    "Mul = np.dot(np.ones((5,3)),np.ones((3,2)))\n",
    "print(Mul)"
   ]
  },
  {
   "cell_type": "code",
   "execution_count": 22,
   "metadata": {},
   "outputs": [
    {
     "name": "stdout",
     "output_type": "stream",
     "text": [
      "[ 0  1  2  3 -4 -5 -6 -7 -8  9 10]\n"
     ]
    }
   ],
   "source": [
    "#Negate all elements which are between 3 and 8 , in a given 1D array\n",
    "N = np.arange(11)\n",
    "N[(3<N)&(N<=8)] *= -1\n",
    "print(N)"
   ]
  },
  {
   "cell_type": "code",
   "execution_count": 23,
   "metadata": {},
   "outputs": [
    {
     "name": "stdout",
     "output_type": "stream",
     "text": [
      "9\n",
      "10\n"
     ]
    }
   ],
   "source": [
    "print(sum(range(5),-1))\n",
    "from numpy import *\n",
    "print(sum(range(5),-1))"
   ]
  },
  {
   "cell_type": "code",
   "execution_count": 24,
   "metadata": {},
   "outputs": [
    {
     "name": "stdout",
     "output_type": "stream",
     "text": [
      "0\n",
      "0.0\n"
     ]
    }
   ],
   "source": [
    "import numpy as np\n",
    "\n",
    "print(np.array(0))\n",
    "print(np.array(0.))"
   ]
  },
  {
   "cell_type": "code",
   "execution_count": 25,
   "metadata": {},
   "outputs": [
    {
     "name": "stdout",
     "output_type": "stream",
     "text": [
      "[5. 8. 6. 8. 2. 5. 8. 4. 3. 1.]\n",
      "[5. 8. 6. 8. 2. 5. 8. 4. 3. 1.]\n",
      "[5. 8. 6. 8. 2. 5. 8. 4. 3. 1.]\n",
      "[5 8 6 8 2 5 8 4 3 1]\n",
      "[5. 8. 6. 8. 2. 5. 8. 4. 3. 1.]\n"
     ]
    }
   ],
   "source": [
    "# Extract the integer part of an random array using 5 differnet methods\n",
    "\n",
    "Z = np.random.uniform(0,10,10)\n",
    "print(Z-Z%1)\n",
    "print(np.floor(Z))\n",
    "print(np.ceil(Z)-1)\n",
    "print(Z.astype(int))\n",
    "print(np.trunc(Z))"
   ]
  },
  {
   "cell_type": "code",
   "execution_count": 26,
   "metadata": {},
   "outputs": [
    {
     "name": "stdout",
     "output_type": "stream",
     "text": [
      "[5.85680403 8.85494317 6.33124925 8.71058101 2.0462094  5.90679685\n",
      " 8.70380569 4.61067842 3.12401747 1.88855214]\n"
     ]
    }
   ],
   "source": [
    "print(Z)"
   ]
  },
  {
   "cell_type": "code",
   "execution_count": 27,
   "metadata": {},
   "outputs": [
    {
     "name": "stdout",
     "output_type": "stream",
     "text": [
      "[[0. 1. 2. 3. 4.]\n",
      " [0. 1. 2. 3. 4.]\n",
      " [0. 1. 2. 3. 4.]\n",
      " [0. 1. 2. 3. 4.]\n",
      " [0. 1. 2. 3. 4.]]\n"
     ]
    }
   ],
   "source": [
    "# Create a 5X5 matrix with row values ranging from 0 to 4\n",
    "\n",
    "Z = np.zeros((5,5))\n",
    "Z += np.arange(5)\n",
    "print(Z)"
   ]
  },
  {
   "cell_type": "code",
   "execution_count": 28,
   "metadata": {},
   "outputs": [
    {
     "name": "stdout",
     "output_type": "stream",
     "text": [
      "[0.]\n"
     ]
    }
   ],
   "source": [
    "#Consider a generator function that generates 10 integers and use it to built an array\n",
    "\n",
    "def generate():\n",
    "    for x in range(10):\n",
    "        yield x\n",
    "Z  = np.fromiter(generate(),dtype=float,count=1)\n",
    "print(Z)"
   ]
  },
  {
   "cell_type": "code",
   "execution_count": 29,
   "metadata": {},
   "outputs": [
    {
     "ename": "ValueError",
     "evalue": "assignment destination is read-only",
     "output_type": "error",
     "traceback": [
      "\u001b[1;31m---------------------------------------------------------------------------\u001b[0m",
      "\u001b[1;31mValueError\u001b[0m                                Traceback (most recent call last)",
      "\u001b[1;32m<ipython-input-29-4000431ab472>\u001b[0m in \u001b[0;36m<module>\u001b[1;34m\u001b[0m\n\u001b[0;32m      3\u001b[0m \u001b[0mM\u001b[0m \u001b[1;33m=\u001b[0m \u001b[0mnp\u001b[0m\u001b[1;33m.\u001b[0m\u001b[0mzeros\u001b[0m\u001b[1;33m(\u001b[0m\u001b[1;36m10\u001b[0m\u001b[1;33m)\u001b[0m\u001b[1;33m\u001b[0m\u001b[1;33m\u001b[0m\u001b[0m\n\u001b[0;32m      4\u001b[0m \u001b[0mM\u001b[0m\u001b[1;33m.\u001b[0m\u001b[0mflags\u001b[0m\u001b[1;33m.\u001b[0m\u001b[0mwriteable\u001b[0m \u001b[1;33m=\u001b[0m \u001b[1;32mFalse\u001b[0m\u001b[1;33m\u001b[0m\u001b[1;33m\u001b[0m\u001b[0m\n\u001b[1;32m----> 5\u001b[1;33m \u001b[0mM\u001b[0m\u001b[1;33m[\u001b[0m\u001b[1;36m0\u001b[0m\u001b[1;33m]\u001b[0m \u001b[1;33m=\u001b[0m \u001b[1;36m1\u001b[0m\u001b[1;33m\u001b[0m\u001b[1;33m\u001b[0m\u001b[0m\n\u001b[0m\u001b[0;32m      6\u001b[0m \u001b[1;31m#print(M)\u001b[0m\u001b[1;33m\u001b[0m\u001b[1;33m\u001b[0m\u001b[1;33m\u001b[0m\u001b[0m\n",
      "\u001b[1;31mValueError\u001b[0m: assignment destination is read-only"
     ]
    }
   ],
   "source": [
    "#make a array immutable ( read-only)\n",
    "\n",
    "M = np.zeros(10)\n",
    "M.flags.writeable = False\n",
    "M[0] = 1\n",
    "#print(M)"
   ]
  },
  {
   "cell_type": "code",
   "execution_count": 30,
   "metadata": {},
   "outputs": [
    {
     "name": "stdout",
     "output_type": "stream",
     "text": [
      "[0.78101793 0.25118    0.16256501 0.36401711 1.22052769 0.68824334\n",
      " 0.41192096 1.06166578 0.70077469 0.21114577]\n",
      "[0.04809839 0.91974239 1.42843919 0.51798485 0.94894919 1.41204804\n",
      " 0.90063604 0.49930973 0.80406236 0.48081592]\n"
     ]
    }
   ],
   "source": [
    "# Consider a random 10X2 matrix representing cartesian coordinates , convert them into polar co-ordinates\n",
    "\n",
    "Z = np.random.random((10,2))\n",
    "X,Y = Z[:,0],Z[:,1]\n",
    "R = np.sqrt(X**2+Y**2)\n",
    "T = np.arctan2(Y,X)\n",
    "print(R)\n",
    "print(T)"
   ]
  },
  {
   "cell_type": "code",
   "execution_count": 31,
   "metadata": {},
   "outputs": [
    {
     "name": "stdout",
     "output_type": "stream",
     "text": [
      "[0.14034472 0.86131221 0.60926012 0.42129569 0.2195652  0.83201002\n",
      " 0.50254919 0.84710252 0.         0.43327126]\n"
     ]
    }
   ],
   "source": [
    "# Create random vector of size 10 and replace the maximum value by 0\n",
    "\n",
    "Z = np.random.random(10)\n",
    "Z[Z.argmax()] = 0\n",
    "print(Z)"
   ]
  },
  {
   "cell_type": "code",
   "execution_count": 32,
   "metadata": {},
   "outputs": [
    {
     "name": "stdout",
     "output_type": "stream",
     "text": [
      "[[(0.        , 0.        ) (0.11111111, 0.        )\n",
      "  (0.22222222, 0.        ) (0.33333333, 0.        )\n",
      "  (0.44444444, 0.        ) (0.55555556, 0.        )\n",
      "  (0.66666667, 0.        ) (0.77777778, 0.        )\n",
      "  (0.88888889, 0.        ) (1.        , 0.        )]\n",
      " [(0.        , 0.11111111) (0.11111111, 0.11111111)\n",
      "  (0.22222222, 0.11111111) (0.33333333, 0.11111111)\n",
      "  (0.44444444, 0.11111111) (0.55555556, 0.11111111)\n",
      "  (0.66666667, 0.11111111) (0.77777778, 0.11111111)\n",
      "  (0.88888889, 0.11111111) (1.        , 0.11111111)]\n",
      " [(0.        , 0.22222222) (0.11111111, 0.22222222)\n",
      "  (0.22222222, 0.22222222) (0.33333333, 0.22222222)\n",
      "  (0.44444444, 0.22222222) (0.55555556, 0.22222222)\n",
      "  (0.66666667, 0.22222222) (0.77777778, 0.22222222)\n",
      "  (0.88888889, 0.22222222) (1.        , 0.22222222)]\n",
      " [(0.        , 0.33333333) (0.11111111, 0.33333333)\n",
      "  (0.22222222, 0.33333333) (0.33333333, 0.33333333)\n",
      "  (0.44444444, 0.33333333) (0.55555556, 0.33333333)\n",
      "  (0.66666667, 0.33333333) (0.77777778, 0.33333333)\n",
      "  (0.88888889, 0.33333333) (1.        , 0.33333333)]\n",
      " [(0.        , 0.44444444) (0.11111111, 0.44444444)\n",
      "  (0.22222222, 0.44444444) (0.33333333, 0.44444444)\n",
      "  (0.44444444, 0.44444444) (0.55555556, 0.44444444)\n",
      "  (0.66666667, 0.44444444) (0.77777778, 0.44444444)\n",
      "  (0.88888889, 0.44444444) (1.        , 0.44444444)]\n",
      " [(0.        , 0.55555556) (0.11111111, 0.55555556)\n",
      "  (0.22222222, 0.55555556) (0.33333333, 0.55555556)\n",
      "  (0.44444444, 0.55555556) (0.55555556, 0.55555556)\n",
      "  (0.66666667, 0.55555556) (0.77777778, 0.55555556)\n",
      "  (0.88888889, 0.55555556) (1.        , 0.55555556)]\n",
      " [(0.        , 0.66666667) (0.11111111, 0.66666667)\n",
      "  (0.22222222, 0.66666667) (0.33333333, 0.66666667)\n",
      "  (0.44444444, 0.66666667) (0.55555556, 0.66666667)\n",
      "  (0.66666667, 0.66666667) (0.77777778, 0.66666667)\n",
      "  (0.88888889, 0.66666667) (1.        , 0.66666667)]\n",
      " [(0.        , 0.77777778) (0.11111111, 0.77777778)\n",
      "  (0.22222222, 0.77777778) (0.33333333, 0.77777778)\n",
      "  (0.44444444, 0.77777778) (0.55555556, 0.77777778)\n",
      "  (0.66666667, 0.77777778) (0.77777778, 0.77777778)\n",
      "  (0.88888889, 0.77777778) (1.        , 0.77777778)]\n",
      " [(0.        , 0.88888889) (0.11111111, 0.88888889)\n",
      "  (0.22222222, 0.88888889) (0.33333333, 0.88888889)\n",
      "  (0.44444444, 0.88888889) (0.55555556, 0.88888889)\n",
      "  (0.66666667, 0.88888889) (0.77777778, 0.88888889)\n",
      "  (0.88888889, 0.88888889) (1.        , 0.88888889)]\n",
      " [(0.        , 1.        ) (0.11111111, 1.        )\n",
      "  (0.22222222, 1.        ) (0.33333333, 1.        )\n",
      "  (0.44444444, 1.        ) (0.55555556, 1.        )\n",
      "  (0.66666667, 1.        ) (0.77777778, 1.        )\n",
      "  (0.88888889, 1.        ) (1.        , 1.        )]]\n"
     ]
    }
   ],
   "source": [
    "# Create a structured array with X and Y coordinates covering the [0,1]X[0,1] area\n",
    "\n",
    "Z = np.zeros((10,10),[('x',float),('y',float)])\n",
    "Z['x'],Z['y'] = np.meshgrid(np.linspace(0,1,10),np.linspace(0,1,10))\n",
    "print(Z)"
   ]
  }
 ],
 "metadata": {
  "kernelspec": {
   "display_name": "Python 3",
   "language": "python",
   "name": "python3"
  },
  "language_info": {
   "codemirror_mode": {
    "name": "ipython",
    "version": 3
   },
   "file_extension": ".py",
   "mimetype": "text/x-python",
   "name": "python",
   "nbconvert_exporter": "python",
   "pygments_lexer": "ipython3",
   "version": "3.7.6"
  }
 },
 "nbformat": 4,
 "nbformat_minor": 2
}
