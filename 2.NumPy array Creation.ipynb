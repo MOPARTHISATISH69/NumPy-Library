{
 "cells": [
  {
   "cell_type": "code",
   "execution_count": 1,
   "metadata": {},
   "outputs": [
    {
     "name": "stdout",
     "output_type": "stream",
     "text": [
      "[11 13 15 17 19]\n",
      "[[11 12 13 14]\n",
      " [34 35 36 37]]\n"
     ]
    }
   ],
   "source": [
    "# Creating NumPy Arrays\n",
    "import numpy as np\n",
    "A1_1D = np.array([11,13,15,17,19])                         # One dimensional array\n",
    "A2_2D = np.array([[11,12,13,14],[34,35,36,37]])              # Two dimensional array\n",
    "print(A1_1D)\n",
    "print(A2_2D)"
   ]
  },
  {
   "cell_type": "code",
   "execution_count": 2,
   "metadata": {},
   "outputs": [
    {
     "name": "stdout",
     "output_type": "stream",
     "text": [
      "(5,)\n",
      "(2, 4)\n"
     ]
    }
   ],
   "source": [
    "# Find the shape of an array\n",
    "print(A1_1D.shape)\n",
    "print(A2_2D.shape)"
   ]
  },
  {
   "cell_type": "code",
   "execution_count": 3,
   "metadata": {},
   "outputs": [
    {
     "name": "stdout",
     "output_type": "stream",
     "text": [
      "1\n",
      "2\n"
     ]
    }
   ],
   "source": [
    "# Number of Dimensions\n",
    "print(A1_1D.ndim)\n",
    "print(A2_2D.ndim)"
   ]
  },
  {
   "cell_type": "code",
   "execution_count": 4,
   "metadata": {},
   "outputs": [
    {
     "name": "stdout",
     "output_type": "stream",
     "text": [
      "[0 1 2 3 4]\n"
     ]
    }
   ],
   "source": [
    "# Creating a NumPy array using 'arange' function\n",
    "\n",
    "AA = np.arange(5)\n",
    "print(AA)"
   ]
  },
  {
   "cell_type": "code",
   "execution_count": 5,
   "metadata": {},
   "outputs": [
    {
     "name": "stdout",
     "output_type": "stream",
     "text": [
      "[ 2  6 10 14 18]\n"
     ]
    }
   ],
   "source": [
    "AAR = np.arange(2,20,4) #(start,end,step)\n",
    "print(AAR)"
   ]
  },
  {
   "cell_type": "code",
   "execution_count": 6,
   "metadata": {},
   "outputs": [
    {
     "name": "stdout",
     "output_type": "stream",
     "text": [
      "linspace funciton \n",
      " [0.         1.66666667 3.33333333 5.        ]\n"
     ]
    }
   ],
   "source": [
    "# Creating NumPy array using linspace funciton\n",
    "# generate linear evenly spaced elements between the start and end\n",
    "\n",
    "AL = np.linspace(0,5,4)\n",
    "print(\"linspace funciton \\n\",AL)"
   ]
  },
  {
   "cell_type": "code",
   "execution_count": 7,
   "metadata": {},
   "outputs": [
    {
     "name": "stdout",
     "output_type": "stream",
     "text": [
      "array funciton with zeros using numpy.zeros function \n",
      " [[0. 0. 0. 0. 0. 0. 0. 0.]\n",
      " [0. 0. 0. 0. 0. 0. 0. 0.]\n",
      " [0. 0. 0. 0. 0. 0. 0. 0.]\n",
      " [0. 0. 0. 0. 0. 0. 0. 0.]\n",
      " [0. 0. 0. 0. 0. 0. 0. 0.]]\n"
     ]
    }
   ],
   "source": [
    "# NumPy array creation using various funciton \n",
    "# NumPy.zeros\n",
    "\n",
    "print(\"array funciton with zeros using numpy.zeros function \\n\", np.zeros((5,8)))"
   ]
  },
  {
   "cell_type": "code",
   "execution_count": 8,
   "metadata": {},
   "outputs": [
    {
     "name": "stdout",
     "output_type": "stream",
     "text": [
      "array funciton with ones using numpy.ones function \n",
      " [[0. 0. 0.]\n",
      " [0. 0. 0.]]\n"
     ]
    }
   ],
   "source": [
    "# NumPy.ones\n",
    "\n",
    "print(\"array funciton with ones using numpy.ones function \\n\", np.zeros((2,3)))"
   ]
  },
  {
   "cell_type": "code",
   "execution_count": 9,
   "metadata": {},
   "outputs": [
    {
     "name": "stdout",
     "output_type": "stream",
     "text": [
      "identify matrix using numpy.eye function \n",
      " [[1. 0. 0.]\n",
      " [0. 1. 0.]\n",
      " [0. 0. 1.]]\n"
     ]
    }
   ],
   "source": [
    "# NumPy.eye\n",
    "\n",
    "print(\"identify matrix using numpy.eye function \\n\", np.eye(3))"
   ]
  },
  {
   "cell_type": "code",
   "execution_count": 10,
   "metadata": {},
   "outputs": [
    {
     "name": "stdout",
     "output_type": "stream",
     "text": [
      "Diagonal array using numpy.diag function \n",
      " [[1 0 0 0]\n",
      " [0 2 0 0]\n",
      " [0 0 3 0]\n",
      " [0 0 0 4]]\n"
     ]
    }
   ],
   "source": [
    "# NumPy.diag\n",
    "\n",
    "print(\"Diagonal array using numpy.diag function \\n\", np.diag((1,2,3,4)))"
   ]
  },
  {
   "cell_type": "code",
   "execution_count": 11,
   "metadata": {},
   "outputs": [
    {
     "name": "stdout",
     "output_type": "stream",
     "text": [
      "ND array using the random funtion  [0.5881308  0.89771373 0.89153073 0.81583748]\n"
     ]
    }
   ],
   "source": [
    "# NumPy.randon.rand\n",
    "# using the rand, randn funcitons\n",
    "# Rand(m) produces uniformly distributed random numbers with range 0 to m\n",
    "\n",
    "np.random.seed(20)  #set seed\n",
    "ARR = np.random.rand(4)\n",
    "print(\"ND array using the random funtion \", ARR)"
   ]
  },
  {
   "cell_type": "code",
   "execution_count": 12,
   "metadata": {},
   "outputs": [
    {
     "name": "stdout",
     "output_type": "stream",
     "text": [
      "randn(m) funtion array \n",
      " [ 0.35753652 -2.34326191 -1.08483259  0.55969629  0.93946935 -0.97848104]\n"
     ]
    }
   ],
   "source": [
    "# Rand(m) produces a normally distributed ( Gaussian ) random numbers\n",
    "\n",
    "ARG = np.random.randn(6)\n",
    "print(\"randn(m) funtion array \\n\" , ARG)"
   ]
  },
  {
   "cell_type": "code",
   "execution_count": 13,
   "metadata": {},
   "outputs": [
    {
     "name": "stdout",
     "output_type": "stream",
     "text": [
      "Empty matrix using numpy.empty function \n",
      " [[0.35753652 2.34326191 1.08483259]\n",
      " [0.55969629 0.93946935 0.97848104]]\n"
     ]
    }
   ],
   "source": [
    "# Numpy.Empty\n",
    "# Creating uninitialized array\n",
    "\n",
    "print(\"Empty matrix using numpy.empty function \\n\", np.empty((2,3)))"
   ]
  },
  {
   "cell_type": "code",
   "execution_count": 14,
   "metadata": {},
   "outputs": [
    {
     "name": "stdout",
     "output_type": "stream",
     "text": [
      "[[5 6]\n",
      " [1 3]]\n",
      "[[5 6 5 6 5 6]\n",
      " [1 3 1 3 1 3]]\n"
     ]
    }
   ],
   "source": [
    "# NumPy.tile\n",
    "# Allows one to construct an array from a smaller array by repeating it serval times\n",
    "A11 = np.array([[5,6],[1,3]])\n",
    "print(A11)\n",
    "\n",
    "AT = np.tile(A11,3)\n",
    "print(AT)"
   ]
  },
  {
   "cell_type": "code",
   "execution_count": null,
   "metadata": {},
   "outputs": [],
   "source": []
  }
 ],
 "metadata": {
  "kernelspec": {
   "display_name": "Python 3",
   "language": "python",
   "name": "python3"
  },
  "language_info": {
   "codemirror_mode": {
    "name": "ipython",
    "version": 3
   },
   "file_extension": ".py",
   "mimetype": "text/x-python",
   "name": "python",
   "nbconvert_exporter": "python",
   "pygments_lexer": "ipython3",
   "version": "3.7.6"
  }
 },
 "nbformat": 4,
 "nbformat_minor": 4
}
