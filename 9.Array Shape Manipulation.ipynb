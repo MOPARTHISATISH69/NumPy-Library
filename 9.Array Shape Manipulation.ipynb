{
 "cells": [
  {
   "cell_type": "code",
   "execution_count": 1,
   "metadata": {},
   "outputs": [
    {
     "name": "stdout",
     "output_type": "stream",
     "text": [
      "[[ 2  3  4  5  6]\n",
      " [15 16 17 18 19]]\n"
     ]
    }
   ],
   "source": [
    "# Flattening a multi-dimensional array\n",
    "# np.ravel() - flatten a multi-dimensional array\n",
    "\n",
    "import numpy as np\n",
    "\n",
    "F1 = np.array([np.arange(2,7),np.arange(15,20)])\n",
    "print(F1)"
   ]
  },
  {
   "cell_type": "code",
   "execution_count": 2,
   "metadata": {},
   "outputs": [
    {
     "name": "stdout",
     "output_type": "stream",
     "text": [
      "[ 2  3  4  5  6 15 16 17 18 19]\n"
     ]
    }
   ],
   "source": [
    "F2 = F1.ravel()\n",
    "print(F2)"
   ]
  },
  {
   "cell_type": "code",
   "execution_count": 3,
   "metadata": {},
   "outputs": [
    {
     "data": {
      "text/plain": [
       "array([[ 2, 15],\n",
       "       [ 3, 16],\n",
       "       [ 4, 17],\n",
       "       [ 5, 18],\n",
       "       [ 6, 19]])"
      ]
     },
     "execution_count": 3,
     "metadata": {},
     "output_type": "execute_result"
    }
   ],
   "source": [
    "F1.T"
   ]
  },
  {
   "cell_type": "code",
   "execution_count": 4,
   "metadata": {},
   "outputs": [
    {
     "name": "stdout",
     "output_type": "stream",
     "text": [
      "[ 2 15  3 16  4 17  5 18  6 19]\n"
     ]
    }
   ],
   "source": [
    "F3 = F1.T.ravel()\n",
    "print(F3)\n",
    "# We use ravel function to convert a multi-dimensioanl array into single dimension array"
   ]
  },
  {
   "cell_type": "code",
   "execution_count": null,
   "metadata": {},
   "outputs": [],
   "source": []
  }
 ],
 "metadata": {
  "kernelspec": {
   "display_name": "Python 3",
   "language": "python",
   "name": "python3"
  },
  "language_info": {
   "codemirror_mode": {
    "name": "ipython",
    "version": 3
   },
   "file_extension": ".py",
   "mimetype": "text/x-python",
   "name": "python",
   "nbconvert_exporter": "python",
   "pygments_lexer": "ipython3",
   "version": "3.7.6"
  }
 },
 "nbformat": 4,
 "nbformat_minor": 4
}
