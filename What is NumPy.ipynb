{
 "cells": [
  {
   "cell_type": "code",
   "execution_count": 1,
   "metadata": {},
   "outputs": [],
   "source": [
    "# Numpy stands for Numerical Python\n",
    "# Created with the objective to make numerical computing easy and efficient.\n",
    "# Numpy is used for faster vector operations.\n",
    "# All scientific problems are mostly represented in the form of matrices and vectors.\n",
    "# Arrays are inherently represnting the matrix form\n",
    "# The concept of multidimensionality applied to both arrays and  matrices\n",
    "# Need for Numpy Arrays\n",
    "    # NumPy remains as the base for many computational and ML packages, specifically they rely on NumPy arrays in their methods\n",
    "    # Libraries that use NumPY library in most \n",
    "        # TPOT\n",
    "        # Torch\n",
    "        # Scikit-Learn\n",
    "        # Matplotlib\n",
    "        # SciPy\n",
    "        # Keras\n",
    "        # mlbox\n",
    "        # opencv\n",
    "        # hyperplot,h5py ,genism\n",
    "        # Pandas\n",
    "# Efficiency\n",
    "    # Efficiency can relate to speed, storage, memory and throughout.\n",
    "    # Working with homogenous NumPy arrays enables algorithms running on the top of it to be faster\n",
    "    # NumPy's mathematical operationa itself is implemented in languages like C and Fortan."
   ]
  },
  {
   "cell_type": "code",
   "execution_count": 2,
   "metadata": {},
   "outputs": [],
   "source": [
    "# Ease of development \n",
    "    # Most of mathematical functions included in NumPy's library greatly contribute to ease of development caose in Python.\n",
    "    # NumPy API\n",
    "        # numpy.core -::- basic objects\n",
    "        # lib -::- Additional utilities\n",
    "        # linalg -::- Basic Linear Algebra\n",
    "        # fft -::- Discrete Fourier transfoems\n",
    "        # random -::- Random number generators\n",
    "        # distutils -::- Enhanced build and distribution\n",
    "        # testing -::- Unit Testing\n",
    "        # f2py -::- automatic wrapping of the Fortan code"
   ]
  },
  {
   "cell_type": "code",
   "execution_count": 3,
   "metadata": {},
   "outputs": [],
   "source": [
    "# Who uses Numpy ?\n",
    "    # NumPy is used by Data Analyst and Data Scientist who work with data, analyse, model , forecast and build quick prototypes\n",
    "\n",
    "# Advantages of NumPy\n",
    "    # Integrates well with other libraries.\n",
    "    # Servers as base for other scientific computing libraries.\n",
    "    # Mostly used advanced mathematical concepts are implemented as functions.\n",
    "    # Efficient than lists in python.\n",
    "    # An open source."
   ]
  },
  {
   "cell_type": "code",
   "execution_count": 4,
   "metadata": {},
   "outputs": [],
   "source": [
    "# Limitations of Numpy\n",
    "    # Jython -::- Java implementation of Python cannot access NumPy as it's written in C.\n",
    "\n",
    "#Future- Blaze\n",
    "    # Blaze is created with the objective to process big data and even streaming data.\n",
    "    # The computation engine of blaze is designed to process data in distributed servers.\n",
    "    # It extends NumPy by adding the flexibility of having custom-defined datatypes and heterogeneous shapes\n",
    "    # Computation could be on different hardware like CPU's and GPU's"
   ]
  },
  {
   "cell_type": "code",
   "execution_count": null,
   "metadata": {},
   "outputs": [],
   "source": []
  }
 ],
 "metadata": {
  "kernelspec": {
   "display_name": "Python 3",
   "language": "python",
   "name": "python3"
  },
  "language_info": {
   "codemirror_mode": {
    "name": "ipython",
    "version": 3
   },
   "file_extension": ".py",
   "mimetype": "text/x-python",
   "name": "python",
   "nbconvert_exporter": "python",
   "pygments_lexer": "ipython3",
   "version": "3.7.6"
  }
 },
 "nbformat": 4,
 "nbformat_minor": 4
}
