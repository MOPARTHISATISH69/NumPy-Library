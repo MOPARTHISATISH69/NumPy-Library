{
 "cells": [
  {
   "cell_type": "code",
   "execution_count": 1,
   "metadata": {},
   "outputs": [
    {
     "data": {
      "text/plain": [
       "120"
      ]
     },
     "execution_count": 1,
     "metadata": {},
     "output_type": "execute_result"
    }
   ],
   "source": [
    "## Reduction \n",
    "# np.sum and np.prod perform reduces an array\n",
    "\n",
    "import numpy as np\n",
    "\n",
    "R1 = np.arange(1,6)\n",
    "R1.prod()"
   ]
  },
  {
   "cell_type": "code",
   "execution_count": 2,
   "metadata": {},
   "outputs": [
    {
     "data": {
      "text/plain": [
       "15"
      ]
     },
     "execution_count": 2,
     "metadata": {},
     "output_type": "execute_result"
    }
   ],
   "source": [
    "R1.sum()"
   ]
  },
  {
   "cell_type": "code",
   "execution_count": 3,
   "metadata": {},
   "outputs": [
    {
     "name": "stdout",
     "output_type": "stream",
     "text": [
      "[[1 2 3 4 5]\n",
      " [1 2 3 4 5]]\n"
     ]
    }
   ],
   "source": [
    "## In Multi-dimensional array, use axis parameter to perform ( reduces ) row-wise/column-wise\n",
    "\n",
    "R2 = np.array([np.arange(1,6),np.arange(1,6)])\n",
    "print(R2)"
   ]
  },
  {
   "cell_type": "code",
   "execution_count": 4,
   "metadata": {},
   "outputs": [
    {
     "name": "stdout",
     "output_type": "stream",
     "text": [
      "[ 1  4  9 16 25] [120 120]\n"
     ]
    }
   ],
   "source": [
    "CW = np.prod(R2,axis=0)    # Column-wise reduction\n",
    "RW = np.prod(R2,axis=1)    # Row-wise reduction\n",
    "\n",
    "print(CW,RW)"
   ]
  },
  {
   "cell_type": "code",
   "execution_count": 5,
   "metadata": {},
   "outputs": [
    {
     "name": "stdout",
     "output_type": "stream",
     "text": [
      "14400\n"
     ]
    }
   ],
   "source": [
    "# When we don't specify the axis\n",
    "\n",
    "NA = np.prod(R2)  # it gives the product of all numbers in array\n",
    "print(NA)"
   ]
  },
  {
   "cell_type": "code",
   "execution_count": 6,
   "metadata": {},
   "outputs": [
    {
     "name": "stdout",
     "output_type": "stream",
     "text": [
      "30\n",
      "3.0\n"
     ]
    }
   ],
   "source": [
    "print(R2.sum())\n",
    "print(R2.mean())"
   ]
  },
  {
   "cell_type": "code",
   "execution_count": 7,
   "metadata": {},
   "outputs": [
    {
     "name": "stdout",
     "output_type": "stream",
     "text": [
      "[[3 9 4 6]\n",
      " [7 2 0 6]\n",
      " [8 5 3 0]\n",
      " [6 6 0 9]\n",
      " [5 7 5 2]]\n"
     ]
    }
   ],
   "source": [
    "## Statistical Operations\n",
    "\n",
    "# std() , mean() , median() , cumsum()\n",
    "\n",
    "np.random.seed(20)\n",
    "SS1 = np.random.randint(0,10, size=(5,4))\n",
    "print(SS1)"
   ]
  },
  {
   "cell_type": "code",
   "execution_count": 8,
   "metadata": {},
   "outputs": [
    {
     "data": {
      "text/plain": [
       "4.65"
      ]
     },
     "execution_count": 8,
     "metadata": {},
     "output_type": "execute_result"
    }
   ],
   "source": [
    "SS1.mean()"
   ]
  },
  {
   "cell_type": "code",
   "execution_count": 9,
   "metadata": {},
   "outputs": [
    {
     "data": {
      "text/plain": [
       "2.7617928959282954"
      ]
     },
     "execution_count": 9,
     "metadata": {},
     "output_type": "execute_result"
    }
   ],
   "source": [
    "SS1.std()"
   ]
  },
  {
   "cell_type": "code",
   "execution_count": 10,
   "metadata": {},
   "outputs": [
    {
     "name": "stdout",
     "output_type": "stream",
     "text": [
      "[ 2.96  5.36  4.24 10.24]\n",
      "[ 5.25    8.1875  8.5    10.6875  3.1875]\n"
     ]
    }
   ],
   "source": [
    "print(SS1.var(axis=0))\n",
    "print(SS1.var(axis=1))"
   ]
  },
  {
   "cell_type": "code",
   "execution_count": 11,
   "metadata": {},
   "outputs": [
    {
     "data": {
      "text/plain": [
       "array([ 3, 12, 16, 22, 29, 31, 31, 37, 45, 50, 53, 53, 59, 65, 65, 74, 79,\n",
       "       86, 91, 93], dtype=int32)"
      ]
     },
     "execution_count": 11,
     "metadata": {},
     "output_type": "execute_result"
    }
   ],
   "source": [
    "SS1.cumsum()"
   ]
  },
  {
   "cell_type": "code",
   "execution_count": 12,
   "metadata": {},
   "outputs": [
    {
     "name": "stdout",
     "output_type": "stream",
     "text": [
      "[[14 15 17 18 13]\n",
      " [11 17 19 16 14]\n",
      " [11 17 17 11 16]\n",
      " [18 16 13 17 14]]\n"
     ]
    }
   ],
   "source": [
    "## Logical operations\n",
    "\n",
    "#np.all() -::- This is used for element-wise and all of the elements\n",
    "#np.any() -::- This is used for element-wise or all of the elements\n",
    "np.random.seed(20)\n",
    "L1 = np.random.randint(11,20,size=(4,5))\n",
    "print(L1)"
   ]
  },
  {
   "cell_type": "code",
   "execution_count": 13,
   "metadata": {},
   "outputs": [
    {
     "name": "stdout",
     "output_type": "stream",
     "text": [
      "True\n"
     ]
    }
   ],
   "source": [
    "L2 = np.any((L1%7)==0) #This condition should be satisfied with any element(s) in array\n",
    "print(L2)"
   ]
  },
  {
   "cell_type": "code",
   "execution_count": 14,
   "metadata": {},
   "outputs": [
    {
     "name": "stdout",
     "output_type": "stream",
     "text": [
      "False\n"
     ]
    }
   ],
   "source": [
    "L2 = np.all((L1%7)==0) #This condition should be satisfied with all elements in array\n",
    "print(L2)"
   ]
  },
  {
   "cell_type": "code",
   "execution_count": null,
   "metadata": {},
   "outputs": [],
   "source": []
  }
 ],
 "metadata": {
  "kernelspec": {
   "display_name": "Python 3",
   "language": "python",
   "name": "python3"
  },
  "language_info": {
   "codemirror_mode": {
    "name": "ipython",
    "version": 3
   },
   "file_extension": ".py",
   "mimetype": "text/x-python",
   "name": "python",
   "nbconvert_exporter": "python",
   "pygments_lexer": "ipython3",
   "version": "3.7.6"
  }
 },
 "nbformat": 4,
 "nbformat_minor": 4
}
