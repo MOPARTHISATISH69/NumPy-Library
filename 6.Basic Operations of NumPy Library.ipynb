{
 "cells": [
  {
   "cell_type": "code",
   "execution_count": 1,
   "metadata": {},
   "outputs": [],
   "source": [
    "## Basic Arithmetic Operations\n",
    "    # Sum\n",
    "    # product\n",
    "    # Substract\n",
    "    # Division"
   ]
  },
  {
   "cell_type": "code",
   "execution_count": 2,
   "metadata": {},
   "outputs": [
    {
     "name": "stdout",
     "output_type": "stream",
     "text": [
      "[ 4  8 12]\n"
     ]
    }
   ],
   "source": [
    "import numpy as np\n",
    "O = np.arange(1,4)*4\n",
    "print(O)"
   ]
  },
  {
   "cell_type": "code",
   "execution_count": 3,
   "metadata": {},
   "outputs": [
    {
     "name": "stdout",
     "output_type": "stream",
     "text": [
      "[   1   16   81  256  625 1296 2401 4096 6561]\n"
     ]
    }
   ],
   "source": [
    "O1 = np.arange(1,10)**4\n",
    "print(O1)"
   ]
  },
  {
   "cell_type": "code",
   "execution_count": 4,
   "metadata": {},
   "outputs": [
    {
     "name": "stdout",
     "output_type": "stream",
     "text": [
      "[2.         2.82842712 3.46410162]\n"
     ]
    }
   ],
   "source": [
    "O2 = O ** 0.5\n",
    "print(O2)"
   ]
  },
  {
   "cell_type": "code",
   "execution_count": 5,
   "metadata": {},
   "outputs": [
    {
     "name": "stdout",
     "output_type": "stream",
     "text": [
      "[ 4  6  8 10 12 14 16 18 20 22]\n"
     ]
    }
   ],
   "source": [
    "# Operations also work element-wise array is the second operand\n",
    "S1 = 3+np.arange(1,20,2)\n",
    "print(S1)"
   ]
  },
  {
   "cell_type": "code",
   "execution_count": 6,
   "metadata": {},
   "outputs": [
    {
     "name": "stdout",
     "output_type": "stream",
     "text": [
      "[ 1  2  3  4  5  6  7  8  9 10]\n"
     ]
    }
   ],
   "source": [
    "S2 = np.arange(1,11)\n",
    "print(S2)"
   ]
  },
  {
   "cell_type": "code",
   "execution_count": 8,
   "metadata": {},
   "outputs": [
    {
     "name": "stdout",
     "output_type": "stream",
     "text": [
      "[ -3  -4  -5  -6  -7  -8  -9 -10 -11 -12]\n"
     ]
    }
   ],
   "source": [
    "S3 = S2 - S1   # Shape must be equal\n",
    "print(S3)# Division"
   ]
  },
  {
   "cell_type": "code",
   "execution_count": 9,
   "metadata": {},
   "outputs": [
    {
     "name": "stdout",
     "output_type": "stream",
     "text": [
      "[4.         3.         2.66666667 2.5        2.4        2.33333333\n",
      " 2.28571429 2.25       2.22222222 2.2       ]\n"
     ]
    }
   ],
   "source": [
    "# Division\n",
    "D = S1/S2\n",
    "print(D)"
   ]
  },
  {
   "cell_type": "code",
   "execution_count": 10,
   "metadata": {},
   "outputs": [
    {
     "name": "stdout",
     "output_type": "stream",
     "text": [
      "[  4  12  24  40  60  84 112 144 180 220]\n"
     ]
    }
   ],
   "source": [
    "# Multiplication \n",
    "M = S1*S2\n",
    "print(M)"
   ]
  },
  {
   "cell_type": "code",
   "execution_count": 11,
   "metadata": {},
   "outputs": [
    {
     "name": "stdout",
     "output_type": "stream",
     "text": [
      "2.28 µs ± 320 ns per loop (mean ± std. dev. of 7 runs, 100000 loops each)\n"
     ]
    }
   ],
   "source": [
    "# We use timie fucntion,to know how time works with numpy package ( how much time it takes for operations)\n",
    "T = np.arange(100)\n",
    "%timeit T**4"
   ]
  },
  {
   "cell_type": "code",
   "execution_count": 12,
   "metadata": {},
   "outputs": [
    {
     "name": "stdout",
     "output_type": "stream",
     "text": [
      "94.3 µs ± 12.1 µs per loop (mean ± std. dev. of 7 runs, 10000 loops each)\n"
     ]
    }
   ],
   "source": [
    " TR = range(100)\n",
    "%timeit [TR[i]**4 for i in TR]"
   ]
  },
  {
   "cell_type": "code",
   "execution_count": 13,
   "metadata": {},
   "outputs": [
    {
     "name": "stdout",
     "output_type": "stream",
     "text": [
      "Matix M1 is \n",
      " [[5 5]\n",
      " [7 7]]\n",
      "Matix M2 is \n",
      " [[7 7]\n",
      " [5 5]]\n",
      "Multiplication of Matrix M1 and M2 is \n",
      " [[60 60]\n",
      " [84 84]]\n"
     ]
    }
   ],
   "source": [
    "# Matrix Multiplication\n",
    "\n",
    "# Matrix Multiplication is not same as array multiplicaiton ; array multiplication done element wise but in Matrix it is different.\n",
    "\n",
    "M1 = np.array([[5,5],[7,7]])\n",
    "print(\"Matix M1 is \\n\",M1)\n",
    "M2 = np.array([[7,7],[5,5]])\n",
    "print(\"Matix M2 is \\n\",M2)\n",
    "\n",
    "M3 = M1.dot(M2)\n",
    "print(\"Multiplication of Matrix M1 and M2 is \\n\",M3)"
   ]
  },
  {
   "cell_type": "code",
   "execution_count": 14,
   "metadata": {},
   "outputs": [
    {
     "name": "stdout",
     "output_type": "stream",
     "text": [
      "[ True  True  True  True False]\n"
     ]
    }
   ],
   "source": [
    "## Comparisons and logical operations \n",
    "## Comparisons and logical operations are also element-wise\n",
    "\n",
    "CL1 = np.arange(2,7)\n",
    "CL2 = np.arange(10,5,-1)\n",
    "CL3 = CL1 < CL2\n",
    "print(CL3)"
   ]
  },
  {
   "cell_type": "code",
   "execution_count": 15,
   "metadata": {},
   "outputs": [
    {
     "data": {
      "text/plain": [
       "array([False, False, False, False,  True])"
      ]
     },
     "execution_count": 15,
     "metadata": {},
     "output_type": "execute_result"
    }
   ],
   "source": [
    "LA1  = np.array([False,True,False,False,True])\n",
    "LA2  = np.array([True,False,False,False,True])\n",
    "LA3  = np.logical_and(LA1,LA2)\n",
    "LA3"
   ]
  },
  {
   "cell_type": "code",
   "execution_count": 16,
   "metadata": {},
   "outputs": [
    {
     "name": "stdout",
     "output_type": "stream",
     "text": [
      "[ True  True False False  True]\n"
     ]
    }
   ],
   "source": [
    "LA4  = np.logical_or(LA1,LA2)\n",
    "print(LA4)"
   ]
  },
  {
   "cell_type": "code",
   "execution_count": 17,
   "metadata": {},
   "outputs": [],
   "source": [
    "# the below operations as well element-wise\n",
    "    # log\n",
    "    # sin\n",
    "    # cos\n",
    "    # exp"
   ]
  },
  {
   "cell_type": "code",
   "execution_count": 18,
   "metadata": {},
   "outputs": [
    {
     "name": "stdout",
     "output_type": "stream",
     "text": [
      "[1.2246468e-16 1.0000000e+00]\n"
     ]
    }
   ],
   "source": [
    "S1 = np.array([np.pi,np.pi/2])\n",
    "S2 = np.sin(S1)\n",
    "print(S2)"
   ]
  },
  {
   "cell_type": "code",
   "execution_count": 19,
   "metadata": {},
   "outputs": [
    {
     "name": "stdout",
     "output_type": "stream",
     "text": [
      "[[1 2 3]\n",
      " [4 5 6]]\n",
      "[[1 4]\n",
      " [2 5]\n",
      " [3 6]]\n"
     ]
    }
   ],
   "source": [
    "# Element-wise operations , two arrays must have same shape , or else it throws an error. \n",
    "\n",
    "T1 = np.array([[1,2,3],[4,5,6]])\n",
    "T2 = T1.T \n",
    "\n",
    "print(T1)\n",
    "print(T2)"
   ]
  },
  {
   "cell_type": "code",
   "execution_count": 20,
   "metadata": {},
   "outputs": [
    {
     "name": "stdout",
     "output_type": "stream",
     "text": [
      "[[1 2 3]\n",
      " [4 5 6]]\n",
      "[[1 4]\n",
      " [2 5]\n",
      " [3 6]]\n"
     ]
    }
   ],
   "source": [
    "T1 = np.array([[1,2,3],[4,5,6]])\n",
    "T2 = np.transpose(T1)\n",
    "\n",
    "print(T1)\n",
    "print(T2)"
   ]
  },
  {
   "cell_type": "code",
   "execution_count": 21,
   "metadata": {},
   "outputs": [
    {
     "name": "stdout",
     "output_type": "stream",
     "text": [
      "True\n"
     ]
    }
   ],
   "source": [
    "# Compare arrays , not in element-wise , but array wise\n",
    "\n",
    "CA1 = np.arange(1,7)\n",
    "CA2 = np.array([1,2,3,4,5,6])\n",
    "\n",
    "CA3 = np.array_equal(CA1,CA2)\n",
    "\n",
    "print(CA3)"
   ]
  },
  {
   "cell_type": "code",
   "execution_count": 22,
   "metadata": {},
   "outputs": [
    {
     "name": "stdout",
     "output_type": "stream",
     "text": [
      "True\n"
     ]
    }
   ],
   "source": [
    "# Equivalent to the above expression\n",
    "\n",
    "CA4 = np.all(CA1 == CA2)\n",
    "print(CA4)"
   ]
  },
  {
   "cell_type": "code",
   "execution_count": null,
   "metadata": {},
   "outputs": [],
   "source": []
  }
 ],
 "metadata": {
  "kernelspec": {
   "display_name": "Python 3",
   "language": "python",
   "name": "python3"
  },
  "language_info": {
   "codemirror_mode": {
    "name": "ipython",
    "version": 3
   },
   "file_extension": ".py",
   "mimetype": "text/x-python",
   "name": "python",
   "nbconvert_exporter": "python",
   "pygments_lexer": "ipython3",
   "version": "3.7.6"
  }
 },
 "nbformat": 4,
 "nbformat_minor": 4
}
